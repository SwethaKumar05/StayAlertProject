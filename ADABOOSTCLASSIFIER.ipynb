{
 "cells": [
  {
   "cell_type": "markdown",
   "id": "5f826354",
   "metadata": {},
   "source": [
    "\n",
    "# ADABOOST CLASSIFIER:"
   ]
  },
  {
   "cell_type": "code",
   "execution_count": 29,
   "id": "b89302b1",
   "metadata": {},
   "outputs": [],
   "source": [
    "from sklearn.ensemble import AdaBoostClassifier, GradientBoostingClassifier"
   ]
  },
  {
   "cell_type": "code",
   "execution_count": 34,
   "id": "ed07ec55",
   "metadata": {},
   "outputs": [],
   "source": [
    "ada = AdaBoostClassifier(n_estimators = 100)\n",
    "ada.fit(x_train, y_train)\n",
    "y_train_ada = ada.predict(x_train)\n",
    "y_hat_test_ada = ada.predict(x_test)"
   ]
  },
  {
   "cell_type": "code",
   "execution_count": 35,
   "id": "a78685ba",
   "metadata": {},
   "outputs": [
    {
     "name": "stdout",
     "output_type": "stream",
     "text": [
      "The accuracy of the model is: 0.86\n",
      "[[160509  42818]\n",
      " [ 24340 255796]]\n",
      "              precision    recall  f1-score   support\n",
      "\n",
      "           0       0.87      0.79      0.83    203327\n",
      "           1       0.86      0.91      0.88    280136\n",
      "\n",
      "    accuracy                           0.86    483463\n",
      "   macro avg       0.86      0.85      0.86    483463\n",
      "weighted avg       0.86      0.86      0.86    483463\n",
      "\n"
     ]
    }
   ],
   "source": [
    "model_eval(y_train, y_train_ada)"
   ]
  },
  {
   "cell_type": "code",
   "execution_count": 36,
   "id": "7b05d6df",
   "metadata": {},
   "outputs": [
    {
     "name": "stdout",
     "output_type": "stream",
     "text": [
      "The accuracy of the model is: 0.86\n",
      "[[40521 10696]\n",
      " [ 5929 63720]]\n",
      "              precision    recall  f1-score   support\n",
      "\n",
      "           0       0.87      0.79      0.83     51217\n",
      "           1       0.86      0.91      0.88     69649\n",
      "\n",
      "    accuracy                           0.86    120866\n",
      "   macro avg       0.86      0.85      0.86    120866\n",
      "weighted avg       0.86      0.86      0.86    120866\n",
      "\n"
     ]
    }
   ],
   "source": [
    "model_eval(y_test, y_hat_test_ada)"
   ]
  },
  {
   "cell_type": "markdown",
   "id": "b62f1a69",
   "metadata": {},
   "source": [
    "Even by adding an hyperparameter still thers is no change in accuracy becoz it reaches the peak."
   ]
  },
  {
   "cell_type": "code",
   "execution_count": null,
   "id": "3cda0811",
   "metadata": {},
   "outputs": [],
   "source": []
  }
 ],
 "metadata": {
  "kernelspec": {
   "display_name": "Python 3 (ipykernel)",
   "language": "python",
   "name": "python3"
  },
  "language_info": {
   "codemirror_mode": {
    "name": "ipython",
    "version": 3
   },
   "file_extension": ".py",
   "mimetype": "text/x-python",
   "name": "python",
   "nbconvert_exporter": "python",
   "pygments_lexer": "ipython3",
   "version": "3.10.9"
  }
 },
 "nbformat": 4,
 "nbformat_minor": 5
}
