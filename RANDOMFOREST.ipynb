{
 "cells": [
  {
   "cell_type": "markdown",
   "id": "c848bc8b",
   "metadata": {},
   "source": [
    "# RANDOM FOREST:"
   ]
  },
  {
   "cell_type": "code",
   "execution_count": 21,
   "id": "32958933",
   "metadata": {},
   "outputs": [],
   "source": [
    "from sklearn.ensemble import RandomForestClassifier"
   ]
  },
  {
   "cell_type": "code",
   "execution_count": 22,
   "id": "68dd33b7",
   "metadata": {},
   "outputs": [
    {
     "data": {
      "text/html": [
       "<style>#sk-container-id-2 {color: black;background-color: white;}#sk-container-id-2 pre{padding: 0;}#sk-container-id-2 div.sk-toggleable {background-color: white;}#sk-container-id-2 label.sk-toggleable__label {cursor: pointer;display: block;width: 100%;margin-bottom: 0;padding: 0.3em;box-sizing: border-box;text-align: center;}#sk-container-id-2 label.sk-toggleable__label-arrow:before {content: \"▸\";float: left;margin-right: 0.25em;color: #696969;}#sk-container-id-2 label.sk-toggleable__label-arrow:hover:before {color: black;}#sk-container-id-2 div.sk-estimator:hover label.sk-toggleable__label-arrow:before {color: black;}#sk-container-id-2 div.sk-toggleable__content {max-height: 0;max-width: 0;overflow: hidden;text-align: left;background-color: #f0f8ff;}#sk-container-id-2 div.sk-toggleable__content pre {margin: 0.2em;color: black;border-radius: 0.25em;background-color: #f0f8ff;}#sk-container-id-2 input.sk-toggleable__control:checked~div.sk-toggleable__content {max-height: 200px;max-width: 100%;overflow: auto;}#sk-container-id-2 input.sk-toggleable__control:checked~label.sk-toggleable__label-arrow:before {content: \"▾\";}#sk-container-id-2 div.sk-estimator input.sk-toggleable__control:checked~label.sk-toggleable__label {background-color: #d4ebff;}#sk-container-id-2 div.sk-label input.sk-toggleable__control:checked~label.sk-toggleable__label {background-color: #d4ebff;}#sk-container-id-2 input.sk-hidden--visually {border: 0;clip: rect(1px 1px 1px 1px);clip: rect(1px, 1px, 1px, 1px);height: 1px;margin: -1px;overflow: hidden;padding: 0;position: absolute;width: 1px;}#sk-container-id-2 div.sk-estimator {font-family: monospace;background-color: #f0f8ff;border: 1px dotted black;border-radius: 0.25em;box-sizing: border-box;margin-bottom: 0.5em;}#sk-container-id-2 div.sk-estimator:hover {background-color: #d4ebff;}#sk-container-id-2 div.sk-parallel-item::after {content: \"\";width: 100%;border-bottom: 1px solid gray;flex-grow: 1;}#sk-container-id-2 div.sk-label:hover label.sk-toggleable__label {background-color: #d4ebff;}#sk-container-id-2 div.sk-serial::before {content: \"\";position: absolute;border-left: 1px solid gray;box-sizing: border-box;top: 0;bottom: 0;left: 50%;z-index: 0;}#sk-container-id-2 div.sk-serial {display: flex;flex-direction: column;align-items: center;background-color: white;padding-right: 0.2em;padding-left: 0.2em;position: relative;}#sk-container-id-2 div.sk-item {position: relative;z-index: 1;}#sk-container-id-2 div.sk-parallel {display: flex;align-items: stretch;justify-content: center;background-color: white;position: relative;}#sk-container-id-2 div.sk-item::before, #sk-container-id-2 div.sk-parallel-item::before {content: \"\";position: absolute;border-left: 1px solid gray;box-sizing: border-box;top: 0;bottom: 0;left: 50%;z-index: -1;}#sk-container-id-2 div.sk-parallel-item {display: flex;flex-direction: column;z-index: 1;position: relative;background-color: white;}#sk-container-id-2 div.sk-parallel-item:first-child::after {align-self: flex-end;width: 50%;}#sk-container-id-2 div.sk-parallel-item:last-child::after {align-self: flex-start;width: 50%;}#sk-container-id-2 div.sk-parallel-item:only-child::after {width: 0;}#sk-container-id-2 div.sk-dashed-wrapped {border: 1px dashed gray;margin: 0 0.4em 0.5em 0.4em;box-sizing: border-box;padding-bottom: 0.4em;background-color: white;}#sk-container-id-2 div.sk-label label {font-family: monospace;font-weight: bold;display: inline-block;line-height: 1.2em;}#sk-container-id-2 div.sk-label-container {text-align: center;}#sk-container-id-2 div.sk-container {/* jupyter's `normalize.less` sets `[hidden] { display: none; }` but bootstrap.min.css set `[hidden] { display: none !important; }` so we also need the `!important` here to be able to override the default hidden behavior on the sphinx rendered scikit-learn.org. See: https://github.com/scikit-learn/scikit-learn/issues/21755 */display: inline-block !important;position: relative;}#sk-container-id-2 div.sk-text-repr-fallback {display: none;}</style><div id=\"sk-container-id-2\" class=\"sk-top-container\"><div class=\"sk-text-repr-fallback\"><pre>RandomForestClassifier()</pre><b>In a Jupyter environment, please rerun this cell to show the HTML representation or trust the notebook. <br />On GitHub, the HTML representation is unable to render, please try loading this page with nbviewer.org.</b></div><div class=\"sk-container\" hidden><div class=\"sk-item\"><div class=\"sk-estimator sk-toggleable\"><input class=\"sk-toggleable__control sk-hidden--visually\" id=\"sk-estimator-id-2\" type=\"checkbox\" checked><label for=\"sk-estimator-id-2\" class=\"sk-toggleable__label sk-toggleable__label-arrow\">RandomForestClassifier</label><div class=\"sk-toggleable__content\"><pre>RandomForestClassifier()</pre></div></div></div></div></div>"
      ],
      "text/plain": [
       "RandomForestClassifier()"
      ]
     },
     "execution_count": 22,
     "metadata": {},
     "output_type": "execute_result"
    }
   ],
   "source": [
    "rf=RandomForestClassifier()\n",
    "#fit the model\n",
    "rf.fit(x_train,y_train)\n"
   ]
  },
  {
   "cell_type": "code",
   "execution_count": 23,
   "id": "fe14fbf4",
   "metadata": {},
   "outputs": [],
   "source": [
    "y_hat_train_rf=rf.predict(x_train)\n",
    "y_hat_test_rf=rf.predict(x_test)"
   ]
  },
  {
   "cell_type": "code",
   "execution_count": 24,
   "id": "28759232",
   "metadata": {},
   "outputs": [
    {
     "name": "stdout",
     "output_type": "stream",
     "text": [
      "The accuracy of the model is: 1.0\n",
      "[[203327      0]\n",
      " [     0 280136]]\n",
      "              precision    recall  f1-score   support\n",
      "\n",
      "           0       1.00      1.00      1.00    203327\n",
      "           1       1.00      1.00      1.00    280136\n",
      "\n",
      "    accuracy                           1.00    483463\n",
      "   macro avg       1.00      1.00      1.00    483463\n",
      "weighted avg       1.00      1.00      1.00    483463\n",
      "\n"
     ]
    }
   ],
   "source": [
    "model_eval(y_train,y_hat_train_rf)"
   ]
  },
  {
   "cell_type": "code",
   "execution_count": 25,
   "id": "8d21c72d",
   "metadata": {},
   "outputs": [
    {
     "name": "stdout",
     "output_type": "stream",
     "text": [
      "The accuracy of the model is: 0.99\n",
      "[[50672   545]\n",
      " [   83 69566]]\n",
      "              precision    recall  f1-score   support\n",
      "\n",
      "           0       1.00      0.99      0.99     51217\n",
      "           1       0.99      1.00      1.00     69649\n",
      "\n",
      "    accuracy                           0.99    120866\n",
      "   macro avg       1.00      0.99      0.99    120866\n",
      "weighted avg       0.99      0.99      0.99    120866\n",
      "\n"
     ]
    }
   ],
   "source": [
    "model_eval(y_test,y_hat_test_rf)"
   ]
  },
  {
   "cell_type": "code",
   "execution_count": 26,
   "id": "7cdd9a93",
   "metadata": {},
   "outputs": [],
   "source": [
    "importances=rf.feature_importances_"
   ]
  },
  {
   "cell_type": "code",
   "execution_count": 27,
   "id": "4809b63c",
   "metadata": {},
   "outputs": [],
   "source": [
    "importances_df=pd.DataFrame({'features':x_train.columns,'importance':importances})"
   ]
  },
  {
   "cell_type": "code",
   "execution_count": 28,
   "id": "1b575fe6",
   "metadata": {},
   "outputs": [
    {
     "name": "stdout",
     "output_type": "stream",
     "text": [
      "   features  importance\n",
      "0        P1    0.028262\n",
      "1        P2    0.004998\n",
      "2        P3    0.011436\n",
      "3        P4    0.011271\n",
      "4        P5    0.045962\n",
      "5        P6    0.058273\n",
      "6        P7    0.057244\n",
      "7        P8    0.000000\n",
      "8        E1    0.015053\n",
      "9        E2    0.023199\n",
      "10       E3    0.003634\n",
      "11       E4    0.015562\n",
      "12       E5    0.037224\n",
      "13       E6    0.056143\n",
      "14       E7    0.064543\n",
      "15       E8    0.055622\n",
      "16       E9    0.061216\n",
      "17      E10    0.089375\n",
      "18      E11    0.003849\n",
      "19       V1    0.060827\n",
      "20       V2    0.017808\n",
      "21       V3    0.011153\n",
      "22       V4    0.026389\n",
      "23       V5    0.004020\n",
      "24       V6    0.043888\n",
      "25       V7    0.000000\n",
      "26       V8    0.021260\n",
      "27       V9    0.000000\n",
      "28      V10    0.015884\n",
      "29      V11    0.155905\n"
     ]
    }
   ],
   "source": [
    "print(importances_df)"
   ]
  },
  {
   "cell_type": "code",
   "execution_count": null,
   "id": "d1c17d85",
   "metadata": {},
   "outputs": [],
   "source": []
  }
 ],
 "metadata": {
  "kernelspec": {
   "display_name": "Python 3 (ipykernel)",
   "language": "python",
   "name": "python3"
  },
  "language_info": {
   "codemirror_mode": {
    "name": "ipython",
    "version": 3
   },
   "file_extension": ".py",
   "mimetype": "text/x-python",
   "name": "python",
   "nbconvert_exporter": "python",
   "pygments_lexer": "ipython3",
   "version": "3.10.9"
  }
 },
 "nbformat": 4,
 "nbformat_minor": 5
}
