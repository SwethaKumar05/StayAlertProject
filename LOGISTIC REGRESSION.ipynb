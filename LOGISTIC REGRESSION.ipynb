{
 "cells": [
  {
   "cell_type": "markdown",
   "id": "c3022d68",
   "metadata": {},
   "source": [
    "# Logistic Regression."
   ]
  },
  {
   "cell_type": "code",
   "execution_count": 12,
   "id": "1fc04ada",
   "metadata": {},
   "outputs": [
    {
     "name": "stderr",
     "output_type": "stream",
     "text": [
      "C:\\Users\\DELL\\anaconda3\\downloads\\lib\\site-packages\\sklearn\\linear_model\\_logistic.py:458: ConvergenceWarning: lbfgs failed to converge (status=1):\n",
      "STOP: TOTAL NO. of ITERATIONS REACHED LIMIT.\n",
      "\n",
      "Increase the number of iterations (max_iter) or scale the data as shown in:\n",
      "    https://scikit-learn.org/stable/modules/preprocessing.html\n",
      "Please also refer to the documentation for alternative solver options:\n",
      "    https://scikit-learn.org/stable/modules/linear_model.html#logistic-regression\n",
      "  n_iter_i = _check_optimize_result(\n"
     ]
    }
   ],
   "source": [
    "log_reg = LogisticRegression(max_iter = 1000)\n",
    "log_reg.fit(x_train , y_train)\n",
    "y_hat_train_logreg = log_reg.predict(x_train)\n",
    "y_hat_test_logreg = log_reg.predict(x_test)"
   ]
  },
  {
   "cell_type": "code",
   "execution_count": 13,
   "id": "bd25ea66",
   "metadata": {},
   "outputs": [],
   "source": [
    "def model_eval(actual,predicted):\n",
    "  conf_matrix=confusion_matrix(actual,predicted)\n",
    "  clas_rep=classification_report(actual,predicted)\n",
    "  acc_score=accuracy_score(actual,predicted)\n",
    "  print(\"The accuracy of the model is:\",round(acc_score,2))\n",
    "  print(conf_matrix)\n",
    "  print(clas_rep)"
   ]
  },
  {
   "cell_type": "code",
   "execution_count": 14,
   "id": "5f1f4bb6",
   "metadata": {},
   "outputs": [
    {
     "name": "stdout",
     "output_type": "stream",
     "text": [
      "The accuracy of the model is: 0.75\n",
      "[[139916  63411]\n",
      " [ 55079 225057]]\n",
      "              precision    recall  f1-score   support\n",
      "\n",
      "           0       0.72      0.69      0.70    203327\n",
      "           1       0.78      0.80      0.79    280136\n",
      "\n",
      "    accuracy                           0.75    483463\n",
      "   macro avg       0.75      0.75      0.75    483463\n",
      "weighted avg       0.75      0.75      0.75    483463\n",
      "\n"
     ]
    }
   ],
   "source": [
    "model_eval(y_train, y_hat_train_logreg)"
   ]
  },
  {
   "cell_type": "code",
   "execution_count": 15,
   "id": "0d601b7e",
   "metadata": {},
   "outputs": [
    {
     "name": "stdout",
     "output_type": "stream",
     "text": [
      "The accuracy of the model is: 0.75\n",
      "[[35219 15998]\n",
      " [13768 55881]]\n",
      "              precision    recall  f1-score   support\n",
      "\n",
      "           0       0.72      0.69      0.70     51217\n",
      "           1       0.78      0.80      0.79     69649\n",
      "\n",
      "    accuracy                           0.75    120866\n",
      "   macro avg       0.75      0.74      0.75    120866\n",
      "weighted avg       0.75      0.75      0.75    120866\n",
      "\n"
     ]
    }
   ],
   "source": [
    "model_eval(y_test, y_hat_test_logreg)"
   ]
  },
  {
   "cell_type": "code",
   "execution_count": null,
   "id": "d1c17d85",
   "metadata": {},
   "outputs": [],
   "source": []
  }
 ],
 "metadata": {
  "kernelspec": {
   "display_name": "Python 3 (ipykernel)",
   "language": "python",
   "name": "python3"
  },
  "language_info": {
   "codemirror_mode": {
    "name": "ipython",
    "version": 3
   },
   "file_extension": ".py",
   "mimetype": "text/x-python",
   "name": "python",
   "nbconvert_exporter": "python",
   "pygments_lexer": "ipython3",
   "version": "3.10.9"
  }
 },
 "nbformat": 4,
 "nbformat_minor": 5
}
