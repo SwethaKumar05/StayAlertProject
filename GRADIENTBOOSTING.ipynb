{
 "cells": [
  {
   "cell_type": "markdown",
   "id": "516a492d",
   "metadata": {},
   "source": [
    "# GRADIENT BOOSTING:"
   ]
  },
  {
   "cell_type": "code",
   "execution_count": 40,
   "id": "4ae08eb3",
   "metadata": {},
   "outputs": [],
   "source": [
    "gb= GradientBoostingClassifier(n_estimators = 150)\n",
    "gb.fit(x_train, y_train)\n",
    "y_train_gb = gb.predict(x_train)\n",
    "y_hat_test_gb = gb.predict(x_test)"
   ]
  },
  {
   "cell_type": "code",
   "execution_count": 41,
   "id": "282ddf29",
   "metadata": {},
   "outputs": [
    {
     "name": "stdout",
     "output_type": "stream",
     "text": [
      "The accuracy of the model is: 0.9\n",
      "[[168085  35242]\n",
      " [ 14131 266005]]\n",
      "              precision    recall  f1-score   support\n",
      "\n",
      "           0       0.92      0.83      0.87    203327\n",
      "           1       0.88      0.95      0.92    280136\n",
      "\n",
      "    accuracy                           0.90    483463\n",
      "   macro avg       0.90      0.89      0.89    483463\n",
      "weighted avg       0.90      0.90      0.90    483463\n",
      "\n"
     ]
    }
   ],
   "source": [
    "model_eval(y_train, y_train_gb)"
   ]
  },
  {
   "cell_type": "code",
   "execution_count": 53,
   "id": "446a4dce",
   "metadata": {},
   "outputs": [
    {
     "name": "stdout",
     "output_type": "stream",
     "text": [
      "The accuracy of the model is: 0.9\n",
      "[[42318  8899]\n",
      " [ 3449 66200]]\n",
      "              precision    recall  f1-score   support\n",
      "\n",
      "           0       0.92      0.83      0.87     51217\n",
      "           1       0.88      0.95      0.91     69649\n",
      "\n",
      "    accuracy                           0.90    120866\n",
      "   macro avg       0.90      0.89      0.89    120866\n",
      "weighted avg       0.90      0.90      0.90    120866\n",
      "\n"
     ]
    }
   ],
   "source": [
    "model_eval(y_test, y_hat_test_gb)"
   ]
  },
  {
   "cell_type": "markdown",
   "id": "5b8f5e45",
   "metadata": {},
   "source": [
    "Random Forest is best model."
   ]
  }
 ],
 "metadata": {
  "kernelspec": {
   "display_name": "Python 3 (ipykernel)",
   "language": "python",
   "name": "python3"
  },
  "language_info": {
   "codemirror_mode": {
    "name": "ipython",
    "version": 3
   },
   "file_extension": ".py",
   "mimetype": "text/x-python",
   "name": "python",
   "nbconvert_exporter": "python",
   "pygments_lexer": "ipython3",
   "version": "3.10.9"
  }
 },
 "nbformat": 4,
 "nbformat_minor": 5
}
